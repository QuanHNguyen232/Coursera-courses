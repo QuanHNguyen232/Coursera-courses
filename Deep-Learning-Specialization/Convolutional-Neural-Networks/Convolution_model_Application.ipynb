{
 "cells": [
  {
   "cell_type": "markdown",
   "metadata": {},
   "source": [
    "# Convolutional Neural Networks: Application\n",
    "\n",
    "Welcome to Course 4's second assignment! In this notebook, you will:\n",
    "\n",
    "- Create a mood classifer using the TF Keras Sequential API\n",
    "- Build a ConvNet to identify sign language digits using the TF Keras Functional API\n",
    "\n",
    "**After this assignment you will be able to:**\n",
    "\n",
    "- Build and train a ConvNet in TensorFlow for a __binary__ classification problem\n",
    "- Build and train a ConvNet in TensorFlow for a __multiclass__ classification problem\n",
    "- Explain different use cases for the Sequential and Functional APIs\n",
    "\n",
    "To complete this assignment, you should already be familiar with TensorFlow. If you are not, please refer back to the **TensorFlow Tutorial** of the third week of Course 2 (\"**Improving deep neural networks**\").\n",
    "\n",
    "## Important Note on Submission to the AutoGrader\n",
    "\n",
    "Before submitting your assignment to the AutoGrader, please make sure you are not doing the following:\n",
    "\n",
    "1. You have not added any _extra_ `print` statement(s) in the assignment.\n",
    "2. You have not added any _extra_ code cell(s) in the assignment.\n",
    "3. You have not changed any of the function parameters.\n",
    "4. You are not using any global variables inside your graded exercises. Unless specifically instructed to do so, please refrain from it and use the local variables instead.\n",
    "5. You are not changing the assignment code where it is not required, like creating _extra_ variables.\n",
    "\n",
    "If you do any of the following, you will get something like, `Grader not found` (or similarly unexpected) error upon submitting your assignment. Before asking for help/debugging the errors in your assignment, check for these first. If this is the case, and you don't remember the changes you have made, you can get a fresh copy of the assignment by following these [instructions](https://www.coursera.org/learn/convolutional-neural-networks/supplement/DS4yP/h-ow-to-refresh-your-workspace)."
   ]
  },
  {
   "cell_type": "markdown",
   "metadata": {},
   "source": [
    "## Table of Contents\n",
    "\n",
    "- [1 - Packages](#1)\n",
    "    - [1.1 - Load the Data and Split the Data into Train/Test Sets](#1-1)\n",
    "- [2 - Layers in TF Keras](#2)\n",
    "- [3 - The Sequential API](#3)\n",
    "    - [3.1 - Create the Sequential Model](#3-1)\n",
    "        - [Exercise 1 - happyModel](#ex-1)\n",
    "    - [3.2 - Train and Evaluate the Model](#3-2)\n",
    "- [4 - The Functional API](#4)\n",
    "    - [4.1 - Load the SIGNS Dataset](#4-1)\n",
    "    - [4.2 - Split the Data into Train/Test Sets](#4-2)\n",
    "    - [4.3 - Forward Propagation](#4-3)\n",
    "        - [Exercise 2 - convolutional_model](#ex-2)\n",
    "    - [4.4 - Train the Model](#4-4)\n",
    "- [5 - History Object](#5)\n",
    "- [6 - Bibliography](#6)"
   ]
  },
  {
   "cell_type": "markdown",
   "metadata": {},
   "source": [
    "<a name='1'></a>\n",
    "## 1 - Packages\n",
    "\n",
    "As usual, begin by loading in the packages."
   ]
  },
  {
   "cell_type": "code",
   "execution_count": 1,
   "metadata": {},
   "outputs": [],
   "source": [
    "import math\n",
    "import numpy as np\n",
    "import h5py\n",
    "import matplotlib.pyplot as plt\n",
    "from matplotlib.pyplot import imread\n",
    "import scipy\n",
    "from PIL import Image\n",
    "import pandas as pd\n",
    "import tensorflow as tf\n",
    "import tensorflow.keras.layers as tfl\n",
    "from tensorflow.python.framework import ops\n",
    "from cnn_utils import *\n",
    "from test_utils import summary, comparator\n",
    "\n",
    "%matplotlib inline\n",
    "np.random.seed(1)"
   ]
  },
  {
   "cell_type": "markdown",
   "metadata": {},
   "source": [
    "<a name='1-1'></a>\n",
    "### 1.1 - Load the Data and Split the Data into Train/Test Sets\n",
    "\n",
    "You'll be using the Happy House dataset for this part of the assignment, which contains images of peoples' faces. Your task will be to build a ConvNet that determines whether the people in the images are smiling or not -- because they only get to enter the house if they're smiling!  "
   ]
  },
  {
   "cell_type": "code",
   "execution_count": 2,
   "metadata": {},
   "outputs": [
    {
     "name": "stdout",
     "output_type": "stream",
     "text": [
      "number of training examples = 600\n",
      "number of test examples = 150\n",
      "X_train shape: (600, 64, 64, 3)\n",
      "Y_train shape: (600, 1)\n",
      "X_test shape: (150, 64, 64, 3)\n",
      "Y_test shape: (150, 1)\n"
     ]
    }
   ],
   "source": [
    "X_train_orig, Y_train_orig, X_test_orig, Y_test_orig, classes = load_happy_dataset()\n",
    "\n",
    "# Normalize image vectors\n",
    "X_train = X_train_orig/255.\n",
    "X_test = X_test_orig/255.\n",
    "\n",
    "# Reshape\n",
    "Y_train = Y_train_orig.T\n",
    "Y_test = Y_test_orig.T\n",
    "\n",
    "print (\"number of training examples = \" + str(X_train.shape[0]))\n",
    "print (\"number of test examples = \" + str(X_test.shape[0]))\n",
    "print (\"X_train shape: \" + str(X_train.shape))\n",
    "print (\"Y_train shape: \" + str(Y_train.shape))\n",
    "print (\"X_test shape: \" + str(X_test.shape))\n",
    "print (\"Y_test shape: \" + str(Y_test.shape))"
   ]
  },
  {
   "cell_type": "markdown",
   "metadata": {},
   "source": [
    "You can display the images contained in the dataset. Images are **64x64** pixels in RGB format (3 channels)."
   ]
  },
  {
   "cell_type": "code",
   "execution_count": 3,
   "metadata": {},
   "outputs": [
    {
     "data": {
      "image/png": "[encoded data removed]",
      "text/plain": [
       "<Figure size 432x288 with 1 Axes>"
      ]
     },
     "metadata": {
      "needs_background": "light"
     },
     "output_type": "display_data"
    }
   ],
   "source": [
    "index = 124\n",
    "plt.imshow(X_train_orig[index]) #display sample training image\n",
    "plt.show()"
   ]
  },
  {
   "cell_type": "markdown",
   "metadata": {},
   "source": [
    "<a name='2'></a>\n",
    "## 2 - Layers in TF Keras \n",
    "\n",
    "In the previous assignment, you created layers manually in numpy. In TF Keras, you don't have to write code directly to create layers. Rather, TF Keras has pre-defined layers you can use. \n",
    "\n",
    "When you create a layer in TF Keras, you are creating a function that takes some input and transforms it into an output you can reuse later. Nice and easy! "
   ]
  },
  {
   "cell_type": "markdown",
   "metadata": {},
   "source": [
    "<a name='3'></a>\n",
    "## 3 - The Sequential API\n",
    "\n",
    "In the previous assignment, you built helper functions using `numpy` to understand the mechanics behind convolutional neural networks. Most practical applications of deep learning today are built using programming frameworks, which have many built-in functions you can simply call. Keras is a high-level abstraction built on top of TensorFlow, which allows for even more simplified and optimized model creation and training. \n",
    "\n",
    "For the first part of this assignment, you'll create a model using TF Keras' Sequential API, which allows you to build layer by layer, and is ideal for building models where each layer has **exactly one** input tensor and **one** output tensor. \n",
    "\n",
    "As you'll see, using the Sequential API is simple and straightforward, but is only appropriate for simpler, more straightforward tasks. Later in this notebook you'll spend some time building with a more flexible, powerful alternative: the Functional API. \n",
    " "
   ]
  },
  {
   "cell_type": "markdown",
   "metadata": {},
   "source": [
    "<a name='3-1'></a>\n",
    "### 3.1 - Create the Sequential Model\n",
    "\n",
    "As mentioned earlier, the TensorFlow Keras Sequential API can be used to build simple models with layer operations that proceed in a sequential order. \n",
    "\n",
    "You can also add layers incrementally to a Sequential model with the `.add()` method, or remove them using the `.pop()` method, much like you would in a regular Python list.\n",
    "\n",
    "Actually, you can think of a Sequential model as behaving like a list of layers. Like Python lists, Sequential layers are ordered, and the order in which they are specified matters.  If your model is non-linear or contains layers with multiple inputs or outputs, a Sequential model wouldn't be the right choice!\n",
    "\n",
    "For any layer construction in Keras, you'll need to specify the input shape in advance. This is because in Keras, the shape of the weights is based on the shape of the inputs. The weights are only created when the model first sees some input data. Sequential models can be created by passing a list of layers to the Sequential constructor, like you will do in the next assignment.\n",
    "\n",
    "<a name='ex-1'></a>\n",
    "### Exercise 1 - happyModel\n",
    "\n",
    "Implement the `happyModel` function below to build the following model: `ZEROPAD2D -> CONV2D -> BATCHNORM -> RELU -> MAXPOOL -> FLATTEN -> DENSE`. Take help from [tf.keras.layers](https://www.tensorflow.org/api_docs/python/tf/keras/layers) \n",
    "\n",
    "Also, plug in the following parameters for all the steps:\n",
    "\n",
    " - [ZeroPadding2D](https://www.tensorflow.org/api_docs/python/tf/keras/layers/ZeroPadding2D): padding 3, input shape 64 x 64 x 3\n",
    " - [Conv2D](https://www.tensorflow.org/api_docs/python/tf/keras/layers/Conv2D): Use 32 7x7 filters, stride 1\n",
    " - [BatchNormalization](https://www.tensorflow.org/api_docs/python/tf/keras/layers/BatchNormalization): for axis 3\n",
    " - [ReLU](https://www.tensorflow.org/api_docs/python/tf/keras/layers/ReLU)\n",
    " - [MaxPool2D](https://www.tensorflow.org/api_docs/python/tf/keras/layers/MaxPool2D): Using default parameters\n",
    " - [Flatten](https://www.tensorflow.org/api_docs/python/tf/keras/layers/Flatten) the previous output.\n",
    " - Fully-connected ([Dense](https://www.tensorflow.org/api_docs/python/tf/keras/layers/Dense)) layer: Apply a fully connected layer with 1 neuron and a sigmoid activation. \n",
    " \n",
    " \n",
    " **Hint:**\n",
    " \n",
    " Use **tfl** as shorthand for **tensorflow.keras.layers**"
   ]
  },
  {
   "cell_type": "code",
   "execution_count": 13,
   "metadata": {
    "deletable": false,
    "nbgrader": {
     "cell_type": "code",
     "checksum": "95d28b191f257bdd5b70c7b8952559d5",
     "grade": false,
     "grade_id": "cell-0e56d3fc28b69aec",
     "locked": false,
     "schema_version": 3,
     "solution": true,
     "task": false
    }
   },
   "outputs": [],
   "source": [
    "# GRADED FUNCTION: happyModel\n",
    "\n",
    "def happyModel():\n",
    "    \"\"\"\n",
    "    Implements the forward propagation for the binary classification model:\n",
    "    ZEROPAD2D -> CONV2D -> BATCHNORM -> RELU -> MAXPOOL -> FLATTEN -> DENSE\n",
    "    \n",
    "    Note that for simplicity and grading purposes, you'll hard-code all the values\n",
    "    such as the stride and kernel (filter) sizes. \n",
    "    Normally, functions should take these values as function parameters.\n",
    "    \n",
    "    Arguments:\n",
    "    None\n",
    "\n",
    "    Returns:\n",
    "    model -- TF Keras model (object containing the information for the entire training process) \n",
    "    \"\"\"\n",
    "    model = tf.keras.Sequential([\n",
    "            ## ZeroPadding2D with padding 3, input shape of 64 x 64 x 3\n",
    "            \n",
    "            ## Conv2D with 32 7x7 filters and stride of 1\n",
    "            \n",
    "            ## BatchNormalization for axis 3\n",
    "            \n",
    "            ## ReLU\n",
    "            \n",
    "            ## Max Pooling 2D with default parameters\n",
    "            \n",
    "            ## Flatten layer\n",
    "            \n",
    "            ## Dense layer with 1 unit for output & 'sigmoid' activation\n",
    "            \n",
    "            # YOUR CODE STARTS HERE\n",
    "            tf.keras.layers.ZeroPadding2D(padding=(3, 3), input_shape=(64, 64, 3)),\n",
    "            tf.keras.layers.Conv2D(filters=32, kernel_size=(7, 7), strides=(1, 1)),\n",
    "            tf.keras.layers.BatchNormalization(axis=3),\n",
    "            tf.keras.layers.ReLU(),\n",
    "            tf.keras.layers.MaxPool2D(),\n",
    "            tf.keras.layers.Flatten(),\n",
    "            tf.keras.layers.Dense(1, activation='sigmoid')\n",
    "        \n",
    "            # YOUR CODE ENDS HERE\n",
    "        ])\n",
    "    \n",
    "    return model"
   ]
  },
  {
   "cell_type": "code",
   "execution_count": 14,
   "metadata": {
    "deletable": false,
    "editable": false,
    "nbgrader": {
     "cell_type": "code",
     "checksum": "8d3575c950e2e78149be2d05d671c80d",
     "grade": true,
     "grade_id": "cell-e3e1046e5c33d775",
     "locked": true,
     "points": 10,
     "schema_version": 3,
     "solution": false,
     "task": false
    }
   },
   "outputs": [
    {
     "name": "stdout",
     "output_type": "stream",
     "text": [
      "['ZeroPadding2D', (None, 70, 70, 3), 0, ((3, 3), (3, 3))]\n",
      "['Conv2D', (None, 64, 64, 32), 4736, 'valid', 'linear', 'GlorotUniform']\n",
      "['BatchNormalization', (None, 64, 64, 32), 128]\n",
      "['ReLU', (None, 64, 64, 32), 0]\n",
      "['MaxPooling2D', (None, 32, 32, 32), 0, (2, 2), (2, 2), 'valid']\n",
      "['Flatten', (None, 32768), 0]\n",
      "['Dense', (None, 1), 32769, 'sigmoid']\n",
      "\u001b[32mAll tests passed!\u001b[0m\n"
     ]
    }
   ],
   "source": [
    "happy_model = happyModel()\n",
    "# Print a summary for each layer\n",
    "for layer in summary(happy_model):\n",
    "    print(layer)\n",
    "    \n",
    "output = [['ZeroPadding2D', (None, 70, 70, 3), 0, ((3, 3), (3, 3))],\n",
    "            ['Conv2D', (None, 64, 64, 32), 4736, 'valid', 'linear', 'GlorotUniform'],\n",
    "            ['BatchNormalization', (None, 64, 64, 32), 128],\n",
    "            ['ReLU', (None, 64, 64, 32), 0],\n",
    "            ['MaxPooling2D', (None, 32, 32, 32), 0, (2, 2), (2, 2), 'valid'],\n",
    "            ['Flatten', (None, 32768), 0],\n",
    "            ['Dense', (None, 1), 32769, 'sigmoid']]\n",
    "    \n",
    "comparator(summary(happy_model), output)"
   ]
  },
  {
   "cell_type": "markdown",
   "metadata": {},
   "source": [
    "Now that your model is created, you can compile it for training with an optimizer and loss of your choice. When the string `accuracy` is specified as a metric, the type of accuracy used will be automatically converted based on the loss function used. This is one of the many optimizations built into TensorFlow that make your life easier! If you'd like to read more on how the compiler operates, check the docs [here](https://www.tensorflow.org/api_docs/python/tf/keras/Model#compile)."
   ]
  },
  {
   "cell_type": "code",
   "execution_count": 6,
   "metadata": {},
   "outputs": [],
   "source": [
    "happy_model.compile(optimizer='adam',\n",
    "                   loss='binary_crossentropy',\n",
    "                   metrics=['accuracy'])"
   ]
  },
  {
   "cell_type": "markdown",
   "metadata": {},
   "source": [
    "It's time to check your model's parameters with the `.summary()` method. This will display the types of layers you have, the shape of the outputs, and how many parameters are in each layer. "
   ]
  },
  {
   "cell_type": "code",
   "execution_count": 7,
   "metadata": {},
   "outputs": [
    {
     "name": "stdout",
     "output_type": "stream",
     "text": [
      "Model: \"sequential\"\n",
      "_________________________________________________________________\n",
      "Layer (type)                 Output Shape              Param #   \n",
      "=================================================================\n",
      "zero_padding2d (ZeroPadding2 (None, 70, 70, 3)         0         \n",
      "_________________________________________________________________\n",
      "conv2d (Conv2D)              (None, 64, 64, 32)        4736      \n",
      "_________________________________________________________________\n",
      "batch_normalization (BatchNo (None, 64, 64, 32)        128       \n",
      "_________________________________________________________________\n",
      "re_lu (ReLU)                 (None, 64, 64, 32)        0         \n",
      "_________________________________________________________________\n",
      "max_pooling2d (MaxPooling2D) (None, 32, 32, 32)        0         \n",
      "_________________________________________________________________\n",
      "flatten (Flatten)            (None, 32768)             0         \n",
      "_________________________________________________________________\n",
      "dense (Dense)                (None, 1)                 32769     \n",
      "=================================================================\n",
      "Total params: 37,633\n",
      "Trainable params: 37,569\n",
      "Non-trainable params: 64\n",
      "_________________________________________________________________\n"
     ]
    }
   ],
   "source": [
    "happy_model.summary()"
   ]
  },
  {
   "cell_type": "markdown",
   "metadata": {},
   "source": [
    "<a name='3-2'></a>\n",
    "### 3.2 - Train and Evaluate the Model\n",
    "\n",
    "After creating the model, compiling it with your choice of optimizer and loss function, and doing a sanity check on its contents, you are now ready to build! \n",
    "\n",
    "Simply call `.fit()` to train. That's it! No need for mini-batching, saving, or complex backpropagation computations. That's all been done for you, as you're using a TensorFlow dataset with the batches specified already. You do have the option to specify epoch number or minibatch size if you like (for example, in the case of an un-batched dataset)."
   ]
  },
  {
   "cell_type": "code",
   "execution_count": 8,
   "metadata": {},
   "outputs": [
    {
     "name": "stdout",
     "output_type": "stream",
     "text": [
      "Epoch 1/10\n",
      "38/38 [==============================] - 4s 100ms/step - loss: 1.1013 - accuracy: 0.7167\n",
      "Epoch 2/10\n",
      "38/38 [==============================] - 4s 97ms/step - loss: 0.2261 - accuracy: 0.9100\n",
      "Epoch 3/10\n",
      "38/38 [==============================] - 4s 97ms/step - loss: 0.1929 - accuracy: 0.9317\n",
      "Epoch 4/10\n",
      "38/38 [==============================] - 4s 97ms/step - loss: 0.1487 - accuracy: 0.9517\n",
      "Epoch 5/10\n",
      "38/38 [==============================] - 4s 97ms/step - loss: 0.0782 - accuracy: 0.9750\n",
      "Epoch 6/10\n",
      "38/38 [==============================] - 4s 97ms/step - loss: 0.0835 - accuracy: 0.9783\n",
      "Epoch 7/10\n",
      "38/38 [==============================] - 4s 97ms/step - loss: 0.0718 - accuracy: 0.9733\n",
      "Epoch 8/10\n",
      "38/38 [==============================] - 4s 98ms/step - loss: 0.2356 - accuracy: 0.9233\n",
      "Epoch 9/10\n",
      "38/38 [==============================] - 4s 97ms/step - loss: 0.1408 - accuracy: 0.9483\n",
      "Epoch 10/10\n",
      "38/38 [==============================] - 4s 95ms/step - loss: 0.2582 - accuracy: 0.9183\n"
     ]
    },
    {
     "data": {
      "text/plain": [
       "<tensorflow.python.keras.callbacks.History at 0x7fb801703ad0>"
      ]
     },
     "execution_count": 8,
     "metadata": {},
     "output_type": "execute_result"
    }
   ],
   "source": [
    "happy_model.fit(X_train, Y_train, epochs=10, batch_size=16)"
   ]
  },
  {
   "cell_type": "markdown",
   "metadata": {},
   "source": [
    "After that completes, just use `.evaluate()` to evaluate against your test set. This function will print the value of the loss function and the performance metrics specified during the compilation of the model. In this case, the `binary_crossentropy` and the `accuracy` respectively."
   ]
  },
  {
   "cell_type": "code",
   "execution_count": 9,
   "metadata": {},
   "outputs": [
    {
     "name": "stdout",
     "output_type": "stream",
     "text": [
      "5/5 [==============================] - 0s 23ms/step - loss: 0.2144 - accuracy: 0.9067\n"
     ]
    },
    {
     "data": {
      "text/plain": [
       "[0.21440578997135162, 0.9066666960716248]"
      ]
     },
     "execution_count": 9,
     "metadata": {},
     "output_type": "execute_result"
    }
   ],
   "source": [
    "happy_model.evaluate(X_test, Y_test)"
   ]
  },
  {
   "cell_type": "markdown",
   "metadata": {},
   "source": [
    "Easy, right? But what if you need to build a model with shared layers, branches, or multiple inputs and outputs? This is where Sequential, with its beautifully simple yet limited functionality, won't be able to help you. \n",
    "\n",
    "Next up: Enter the Functional API, your slightly more complex, highly flexible friend.  "
   ]
  },
  {
   "cell_type": "markdown",
   "metadata": {},
   "source": [
    "<a name='4'></a>\n",
    "## 4 - The Functional API"
   ]
  },
  {
   "cell_type": "markdown",
   "metadata": {},
   "source": [
    "Welcome to the second half of the assignment, where you'll use Keras' flexible [Functional API](https://www.tensorflow.org/guide/keras/functional) to build a ConvNet that can differentiate between 6 sign language digits. \n",
    "\n",
    "The Functional API can handle models with non-linear topology, shared layers, as well as layers with multiple inputs or outputs. Imagine that, where the Sequential API requires the model to move in a linear fashion through its layers, the Functional API allows much more flexibility. Where Sequential is a straight line, a Functional model is a graph, where the nodes of the layers can connect in many more ways than one. \n",
    "\n",
    "In the visual example below, the one possible direction of the movement Sequential model is shown in contrast to a skip connection, which is just one of the many ways a Functional model can be constructed. A skip connection, as you might have guessed, skips some layer in the network and feeds the output to a later layer in the network. Don't worry, you'll be spending more time with skip connections very soon! "
   ]
  },
  {
   "cell_type": "markdown",
   "metadata": {},
   "source": [
    "<img src=\"images/seq_vs_func.png\" style=\"width:350px;height:200px;\">"
   ]
  },
  {
   "cell_type": "markdown",
   "metadata": {},
   "source": [
    "<a name='4-1'></a>\n",
    "### 4.1 - Load the SIGNS Dataset\n",
    "\n",
    "As a reminder, the SIGNS dataset is a collection of 6 signs representing numbers from 0 to 5."
   ]
  },
  {
   "cell_type": "code",
   "execution_count": 10,
   "metadata": {},
   "outputs": [],
   "source": [
    "# Loading the data (signs)\n",
    "X_train_orig, Y_train_orig, X_test_orig, Y_test_orig, classes = load_signs_dataset()"
   ]
  },
  {
   "cell_type": "markdown",
   "metadata": {},
   "source": [
    "<img src=\"images/SIGNS.png\" style=\"width:800px;height:300px;\">\n",
    "\n",
    "The next cell will show you an example of a labelled image in the dataset. Feel free to change the value of `index` below and re-run to see different examples. "
   ]
  },
  {
   "cell_type": "code",
   "execution_count": 11,
   "metadata": {},
   "outputs": [
    {
     "name": "stdout",
     "output_type": "stream",
     "text": [
      "y = 4\n"
     ]
    },
    {
     "data": {
      "image/png": "[encoded data removed]",
      "text/plain": [
       "<Figure size 432x288 with 1 Axes>"
      ]
     },
     "metadata": {
      "needs_background": "light"
     },
     "output_type": "display_data"
    }
   ],
   "source": [
    "# Example of an image from the dataset\n",
    "index = 9\n",
    "plt.imshow(X_train_orig[index])\n",
    "print (\"y = \" + str(np.squeeze(Y_train_orig[:, index])))"
   ]
  },
  {
   "cell_type": "markdown",
   "metadata": {},
   "source": [
    "<a name='4-2'></a>\n",
    "### 4.2 - Split the Data into Train/Test Sets\n",
    "\n",
    "In Course 2, you built a fully-connected network for this dataset. But since this is an image dataset, it is more natural to apply a ConvNet to it.\n",
    "\n",
    "To get started, let's examine the shapes of your data. "
   ]
  },
  {
   "cell_type": "code",
   "execution_count": 12,
   "metadata": {},
   "outputs": [
    {
     "name": "stdout",
     "output_type": "stream",
     "text": [
      "number of training examples = 1080\n",
      "number of test examples = 120\n",
      "X_train shape: (1080, 64, 64, 3)\n",
      "Y_train shape: (1080, 6)\n",
      "X_test shape: (120, 64, 64, 3)\n",
      "Y_test shape: (120, 6)\n"
     ]
    }
   ],
   "source": [
    "X_train = X_train_orig/255.\n",
    "X_test = X_test_orig/255.\n",
    "Y_train = convert_to_one_hot(Y_train_orig, 6).T\n",
    "Y_test = convert_to_one_hot(Y_test_orig, 6).T\n",
    "print (\"number of training examples = \" + str(X_train.shape[0]))\n",
    "print (\"number of test examples = \" + str(X_test.shape[0]))\n",
    "print (\"X_train shape: \" + str(X_train.shape))\n",
    "print (\"Y_train shape: \" + str(Y_train.shape))\n",
    "print (\"X_test shape: \" + str(X_test.shape))\n",
    "print (\"Y_test shape: \" + str(Y_test.shape))"
   ]
  },
  {
   "cell_type": "markdown",
   "metadata": {},
   "source": [
    "<a name='4-3'></a>\n",
    "### 4.3 - Forward Propagation\n",
    "\n",
    "In TensorFlow, there are built-in functions that implement the convolution steps for you. By now, you should be familiar with how TensorFlow builds computational graphs. In the [Functional API](https://www.tensorflow.org/guide/keras/functional), you create a graph of layers. This is what allows such great flexibility.\n",
    "\n",
    "However, the following model could also be defined using the Sequential API since the information flow is on a single line. But don't deviate. What we want you to learn is to use the functional API.\n",
    "\n",
    "Begin building your graph of layers by creating an input node that functions as a callable object:\n",
    "\n",
    "- **input_img = tf.keras.Input(shape=input_shape):** \n",
    "\n",
    "Then, create a new node in the graph of layers by calling a layer on the `input_img` object: \n",
    "\n",
    "- **tf.keras.layers.Conv2D(filters= ... , kernel_size= ... , padding='same')(input_img):** Read the full documentation on [Conv2D](https://www.tensorflow.org/api_docs/python/tf/keras/layers/Conv2D).\n",
    "\n",
    "- **tf.keras.layers.MaxPool2D(pool_size=(f, f), strides=(s, s), padding='same'):** `MaxPool2D()` downsamples your input using a window of size (f, f) and strides of size (s, s) to carry out max pooling over each window.  For max pooling, you usually operate on a single example at a time and a single channel at a time. Read the full documentation on [MaxPool2D](https://www.tensorflow.org/api_docs/python/tf/keras/layers/MaxPool2D).\n",
    "\n",
    "- **tf.keras.layers.ReLU():** computes the elementwise ReLU of Z (which can be any shape). You can read the full documentation on [ReLU](https://www.tensorflow.org/api_docs/python/tf/keras/layers/ReLU).\n",
    "\n",
    "- **tf.keras.layers.Flatten()**: given a tensor \"P\", this function takes each training (or test) example in the batch and flattens it into a 1D vector.  \n",
    "\n",
    "    * If a tensor P has the shape (batch_size,h,w,c), it returns a flattened tensor with shape (batch_size, k), where $k=h \\times w \\times c$.  \"k\" equals the product of all the dimension sizes other than the first dimension.\n",
    "    \n",
    "    * For example, given a tensor with dimensions [100, 2, 3, 4], it flattens the tensor to be of shape [100, 24], where 24 = 2 * 3 * 4.  You can read the full documentation on [Flatten](https://www.tensorflow.org/api_docs/python/tf/keras/layers/Flatten).\n",
    "\n",
    "- **tf.keras.layers.Dense(units= ... , activation='softmax')(F):** given the flattened input F, it returns the output computed using a fully connected layer. You can read the full documentation on [Dense](https://www.tensorflow.org/api_docs/python/tf/keras/layers/Dense).\n",
    "\n",
    "In the last function above (`tf.keras.layers.Dense()`), the fully connected layer automatically initializes weights in the graph and keeps on training them as you train the model. Hence, you did not need to initialize those weights when initializing the parameters.\n",
    "\n",
    "Lastly, before creating the model, you'll need to define the output using the last of the function's compositions (in this example, a Dense layer): \n",
    "\n",
    "- **outputs = tf.keras.layers.Dense(units=6, activation='softmax')(F)**\n",
    "\n",
    "\n",
    "#### Window, kernel, filter, pool\n",
    "\n",
    "The words \"kernel\" and \"filter\" are used to refer to the same thing. The word \"filter\" accounts for the amount of \"kernels\" that will be used in a single convolution layer. \"Pool\" is the name of the operation that takes the max or average value of the kernels. \n",
    "\n",
    "This is why the parameter `pool_size` refers to `kernel_size`, and you use `(f,f)` to refer to the filter size. \n",
    "\n",
    "Pool size and kernel size refer to the same thing in different objects - They refer to the shape of the window where the operation takes place. "
   ]
  },
  {
   "cell_type": "markdown",
   "metadata": {},
   "source": [
    "<a name='ex-2'></a>\n",
    "### Exercise 2 - convolutional_model\n",
    "\n",
    "Implement the `convolutional_model` function below to build the following model: `CONV2D -> RELU -> MAXPOOL -> CONV2D -> RELU -> MAXPOOL -> FLATTEN -> DENSE`. Use the functions above! \n",
    "\n",
    "Also, plug in the following parameters for all the steps:\n",
    "\n",
    " - [Conv2D](https://www.tensorflow.org/api_docs/python/tf/keras/layers/Conv2D): Use 8 4 by 4 filters, stride 1, padding is \"SAME\"\n",
    " - [ReLU](https://www.tensorflow.org/api_docs/python/tf/keras/layers/ReLU)\n",
    " - [MaxPool2D](https://www.tensorflow.org/api_docs/python/tf/keras/layers/MaxPool2D): Use an 8 by 8 filter size and an 8 by 8 stride, padding is \"SAME\"\n",
    " - **Conv2D**: Use 16 2 by 2 filters, stride 1, padding is \"SAME\"\n",
    " - **ReLU**\n",
    " - **MaxPool2D**: Use a 4 by 4 filter size and a 4 by 4 stride, padding is \"SAME\"\n",
    " - [Flatten](https://www.tensorflow.org/api_docs/python/tf/keras/layers/Flatten) the previous output.\n",
    " - Fully-connected ([Dense](https://www.tensorflow.org/api_docs/python/tf/keras/layers/Dense)) layer: Apply a fully connected layer with 6 neurons and a softmax activation. "
   ]
  },
  {
   "cell_type": "code",
   "execution_count": 20,
   "metadata": {
    "deletable": false,
    "nbgrader": {
     "cell_type": "code",
     "checksum": "f58643806aa8380c96225fc8b4c5e7aa",
     "grade": false,
     "grade_id": "cell-dac51744a9e03f51",
     "locked": false,
     "schema_version": 3,
     "solution": true,
     "task": false
    }
   },
   "outputs": [],
   "source": [
    "# GRADED FUNCTION: convolutional_model\n",
    "\n",
    "def convolutional_model(input_shape):\n",
    "    \"\"\"\n",
    "    Implements the forward propagation for the model:\n",
    "    CONV2D -> RELU -> MAXPOOL -> CONV2D -> RELU -> MAXPOOL -> FLATTEN -> DENSE\n",
    "    \n",
    "    Note that for simplicity and grading purposes, you'll hard-code some values\n",
    "    such as the stride and kernel (filter) sizes. \n",
    "    Normally, functions should take these values as function parameters.\n",
    "    \n",
    "    Arguments:\n",
    "    input_img -- input dataset, of shape (input_shape)\n",
    "\n",
    "    Returns:\n",
    "    model -- TF Keras model (object containing the information for the entire training process) \n",
    "    \"\"\"\n",
    "\n",
    "    input_img = tf.keras.Input(shape=input_shape)\n",
    "    ## CONV2D: 8 filters 4x4, stride of 1, padding 'SAME'\n",
    "    # Z1 = None\n",
    "    ## RELU\n",
    "    # A1 = None\n",
    "    ## MAXPOOL: window 8x8, stride 8, padding 'SAME'\n",
    "    # P1 = None\n",
    "    ## CONV2D: 16 filters 2x2, stride 1, padding 'SAME'\n",
    "    # Z2 = None\n",
    "    ## RELU\n",
    "    # A2 = None\n",
    "    ## MAXPOOL: window 4x4, stride 4, padding 'SAME'\n",
    "    # P2 = None\n",
    "    ## FLATTEN\n",
    "    # F = None\n",
    "    ## Dense layer\n",
    "    ## 6 neurons in output layer. Hint: one of the arguments should be \"activation='softmax'\" \n",
    "    # outputs = None\n",
    "    # YOUR CODE STARTS HERE\n",
    "    ## CONV2D: 8 filters 4x4, stride of 1, padding 'SAME'\n",
    "    Z1 = tf.keras.layers.Conv2D(filters=8, kernel_size=(4, 4), strides=(1, 1), padding='same')(input_img)\n",
    "    ## RELU\n",
    "    A1 = tf.keras.layers.ReLU()(Z1)\n",
    "    ## MAXPOOL: window 8x8, stride 8, padding 'SAME'\n",
    "    P1 = tf.keras.layers.MaxPool2D(pool_size=(8, 8), strides=(8, 8), padding='same')(A1)\n",
    "    ## CONV2D: 16 filters 2x2, stride 1, padding 'SAME'\n",
    "    Z2 = tf.keras.layers.Conv2D(filters=16, kernel_size=(2, 2), strides=(1, 1), padding='same')(P1)\n",
    "    ## RELU\n",
    "    A2 = tf.keras.layers.ReLU()(Z2)\n",
    "    ## MAXPOOL: window 4x4, stride 4, padding 'SAME'\n",
    "    P2 = tf.keras.layers.MaxPool2D(pool_size=(4, 4), strides=(4, 4), padding='same')(A2)\n",
    "    ## FLATTEN\n",
    "    F = tf.keras.layers.Flatten()(P2)\n",
    "    ## Dense layer\n",
    "    ## 6 neurons in output layer. Hint: one of the arguments should be \"activation='softmax'\" \n",
    "    outputs = tf.keras.layers.Dense(units=6, activation='softmax')(F)\n",
    "    \n",
    "    # YOUR CODE ENDS HERE\n",
    "    model = tf.keras.Model(inputs=input_img, outputs=outputs)\n",
    "    return model"
   ]
  },
  {
   "cell_type": "code",
   "execution_count": 21,
   "metadata": {
    "deletable": false,
    "editable": false,
    "nbgrader": {
     "cell_type": "code",
     "checksum": "483d626949930a0b0ef20997e7c6ba72",
     "grade": true,
     "grade_id": "cell-45d22e92042174c9",
     "locked": true,
     "points": 10,
     "schema_version": 3,
     "solution": false,
     "task": false
    }
   },
   "outputs": [
    {
     "name": "stdout",
     "output_type": "stream",
     "text": [
      "Model: \"functional_1\"\n",
      "_________________________________________________________________\n",
      "Layer (type)                 Output Shape              Param #   \n",
      "=================================================================\n",
      "input_3 (InputLayer)         [(None, 64, 64, 3)]       0         \n",
      "_________________________________________________________________\n",
      "conv2d_4 (Conv2D)            (None, 64, 64, 8)         392       \n",
      "_________________________________________________________________\n",
      "re_lu_3 (ReLU)               (None, 64, 64, 8)         0         \n",
      "_________________________________________________________________\n",
      "max_pooling2d_3 (MaxPooling2 (None, 8, 8, 8)           0         \n",
      "_________________________________________________________________\n",
      "conv2d_5 (Conv2D)            (None, 8, 8, 16)          528       \n",
      "_________________________________________________________________\n",
      "re_lu_4 (ReLU)               (None, 8, 8, 16)          0         \n",
      "_________________________________________________________________\n",
      "max_pooling2d_4 (MaxPooling2 (None, 2, 2, 16)          0         \n",
      "_________________________________________________________________\n",
      "flatten_2 (Flatten)          (None, 64)                0         \n",
      "_________________________________________________________________\n",
      "dense_2 (Dense)              (None, 6)                 390       \n",
      "=================================================================\n",
      "Total params: 1,310\n",
      "Trainable params: 1,310\n",
      "Non-trainable params: 0\n",
      "_________________________________________________________________\n",
      "\u001b[32mAll tests passed!\u001b[0m\n"
     ]
    }
   ],
   "source": [
    "conv_model = convolutional_model((64, 64, 3))\n",
    "conv_model.compile(optimizer='adam',\n",
    "                  loss='categorical_crossentropy',\n",
    "                  metrics=['accuracy'])\n",
    "conv_model.summary()\n",
    "    \n",
    "output = [['InputLayer', [(None, 64, 64, 3)], 0],\n",
    "        ['Conv2D', (None, 64, 64, 8), 392, 'same', 'linear', 'GlorotUniform'],\n",
    "        ['ReLU', (None, 64, 64, 8), 0],\n",
    "        ['MaxPooling2D', (None, 8, 8, 8), 0, (8, 8), (8, 8), 'same'],\n",
    "        ['Conv2D', (None, 8, 8, 16), 528, 'same', 'linear', 'GlorotUniform'],\n",
    "        ['ReLU', (None, 8, 8, 16), 0],\n",
    "        ['MaxPooling2D', (None, 2, 2, 16), 0, (4, 4), (4, 4), 'same'],\n",
    "        ['Flatten', (None, 64), 0],\n",
    "        ['Dense', (None, 6), 390, 'softmax']]\n",
    "    \n",
    "comparator(summary(conv_model), output)"
   ]
  },
  {
   "cell_type": "markdown",
   "metadata": {},
   "source": [
    "Both the Sequential and Functional APIs return a TF Keras model object. The only difference is how inputs are handled inside the object model! "
   ]
  },
  {
   "cell_type": "markdown",
   "metadata": {},
   "source": [
    "<a name='4-4'></a>\n",
    "### 4.4 - Train the Model"
   ]
  },
  {
   "cell_type": "code",
   "execution_count": 22,
   "metadata": {},
   "outputs": [
    {
     "name": "stdout",
     "output_type": "stream",
     "text": [
      "Epoch 1/100\n",
      "17/17 [==============================] - 2s 107ms/step - loss: 1.8648 - accuracy: 0.1519 - val_loss: 1.7941 - val_accuracy: 0.1500\n",
      "Epoch 2/100\n",
      "17/17 [==============================] - 2s 106ms/step - loss: 1.7971 - accuracy: 0.1583 - val_loss: 1.7885 - val_accuracy: 0.1750\n",
      "Epoch 3/100\n",
      "17/17 [==============================] - 2s 106ms/step - loss: 1.7871 - accuracy: 0.1806 - val_loss: 1.7786 - val_accuracy: 0.2583\n",
      "Epoch 4/100\n",
      "17/17 [==============================] - 2s 112ms/step - loss: 1.7806 - accuracy: 0.2519 - val_loss: 1.7737 - val_accuracy: 0.3167\n",
      "Epoch 5/100\n",
      "17/17 [==============================] - 2s 106ms/step - loss: 1.7752 - accuracy: 0.2806 - val_loss: 1.7683 - val_accuracy: 0.2917\n",
      "Epoch 6/100\n",
      "17/17 [==============================] - 2s 106ms/step - loss: 1.7686 - accuracy: 0.3074 - val_loss: 1.7624 - val_accuracy: 0.3750\n",
      "Epoch 7/100\n",
      "17/17 [==============================] - 2s 106ms/step - loss: 1.7604 - accuracy: 0.3491 - val_loss: 1.7541 - val_accuracy: 0.3917\n",
      "Epoch 8/100\n",
      "17/17 [==============================] - 2s 106ms/step - loss: 1.7476 - accuracy: 0.3870 - val_loss: 1.7389 - val_accuracy: 0.4167\n",
      "Epoch 9/100\n",
      "17/17 [==============================] - 2s 106ms/step - loss: 1.7299 - accuracy: 0.4204 - val_loss: 1.7223 - val_accuracy: 0.4167\n",
      "Epoch 10/100\n",
      "17/17 [==============================] - 2s 106ms/step - loss: 1.7085 - accuracy: 0.4296 - val_loss: 1.7024 - val_accuracy: 0.4083\n",
      "Epoch 11/100\n",
      "17/17 [==============================] - 2s 106ms/step - loss: 1.6818 - accuracy: 0.4370 - val_loss: 1.6772 - val_accuracy: 0.4167\n",
      "Epoch 12/100\n",
      "17/17 [==============================] - 2s 106ms/step - loss: 1.6491 - accuracy: 0.4352 - val_loss: 1.6456 - val_accuracy: 0.4417\n",
      "Epoch 13/100\n",
      "17/17 [==============================] - 2s 107ms/step - loss: 1.6117 - accuracy: 0.4472 - val_loss: 1.6095 - val_accuracy: 0.4417\n",
      "Epoch 14/100\n",
      "17/17 [==============================] - 2s 106ms/step - loss: 1.5709 - accuracy: 0.4537 - val_loss: 1.5716 - val_accuracy: 0.4583\n",
      "Epoch 15/100\n",
      "17/17 [==============================] - 2s 106ms/step - loss: 1.5286 - accuracy: 0.4602 - val_loss: 1.5321 - val_accuracy: 0.4750\n",
      "Epoch 16/100\n",
      "17/17 [==============================] - 2s 111ms/step - loss: 1.4856 - accuracy: 0.4778 - val_loss: 1.4938 - val_accuracy: 0.4500\n",
      "Epoch 17/100\n",
      "17/17 [==============================] - 2s 111ms/step - loss: 1.4432 - accuracy: 0.4833 - val_loss: 1.4570 - val_accuracy: 0.4750\n",
      "Epoch 18/100\n",
      "17/17 [==============================] - 2s 106ms/step - loss: 1.4040 - accuracy: 0.4935 - val_loss: 1.4233 - val_accuracy: 0.4583\n",
      "Epoch 19/100\n",
      "17/17 [==============================] - 2s 106ms/step - loss: 1.3656 - accuracy: 0.5065 - val_loss: 1.3896 - val_accuracy: 0.4667\n",
      "Epoch 20/100\n",
      "17/17 [==============================] - 2s 106ms/step - loss: 1.3285 - accuracy: 0.5259 - val_loss: 1.3612 - val_accuracy: 0.4667\n",
      "Epoch 21/100\n",
      "17/17 [==============================] - 2s 106ms/step - loss: 1.2968 - accuracy: 0.5352 - val_loss: 1.3378 - val_accuracy: 0.4750\n",
      "Epoch 22/100\n",
      "17/17 [==============================] - 2s 107ms/step - loss: 1.2670 - accuracy: 0.5500 - val_loss: 1.3111 - val_accuracy: 0.4833\n",
      "Epoch 23/100\n",
      "17/17 [==============================] - 2s 106ms/step - loss: 1.2375 - accuracy: 0.5620 - val_loss: 1.2879 - val_accuracy: 0.5250\n",
      "Epoch 24/100\n",
      "17/17 [==============================] - 2s 106ms/step - loss: 1.2096 - accuracy: 0.5741 - val_loss: 1.2633 - val_accuracy: 0.5000\n",
      "Epoch 25/100\n",
      "17/17 [==============================] - 2s 111ms/step - loss: 1.1843 - accuracy: 0.5833 - val_loss: 1.2426 - val_accuracy: 0.5250\n",
      "Epoch 26/100\n",
      "17/17 [==============================] - 2s 112ms/step - loss: 1.1603 - accuracy: 0.5898 - val_loss: 1.2212 - val_accuracy: 0.5167\n",
      "Epoch 27/100\n",
      "17/17 [==============================] - 2s 111ms/step - loss: 1.1375 - accuracy: 0.5981 - val_loss: 1.2017 - val_accuracy: 0.5333\n",
      "Epoch 28/100\n",
      "17/17 [==============================] - 2s 107ms/step - loss: 1.1160 - accuracy: 0.6083 - val_loss: 1.1836 - val_accuracy: 0.5250\n",
      "Epoch 29/100\n",
      "17/17 [==============================] - 2s 106ms/step - loss: 1.0949 - accuracy: 0.6139 - val_loss: 1.1654 - val_accuracy: 0.5500\n",
      "Epoch 30/100\n",
      "17/17 [==============================] - 2s 106ms/step - loss: 1.0748 - accuracy: 0.6250 - val_loss: 1.1469 - val_accuracy: 0.5250\n",
      "Epoch 31/100\n",
      "17/17 [==============================] - 2s 111ms/step - loss: 1.0554 - accuracy: 0.6269 - val_loss: 1.1277 - val_accuracy: 0.5583\n",
      "Epoch 32/100\n",
      "17/17 [==============================] - 2s 112ms/step - loss: 1.0360 - accuracy: 0.6380 - val_loss: 1.1071 - val_accuracy: 0.5333\n",
      "Epoch 33/100\n",
      "17/17 [==============================] - 2s 111ms/step - loss: 1.0164 - accuracy: 0.6380 - val_loss: 1.0881 - val_accuracy: 0.5833\n",
      "Epoch 34/100\n",
      "17/17 [==============================] - 2s 106ms/step - loss: 0.9980 - accuracy: 0.6426 - val_loss: 1.0674 - val_accuracy: 0.5833\n",
      "Epoch 35/100\n",
      "17/17 [==============================] - 2s 106ms/step - loss: 0.9803 - accuracy: 0.6481 - val_loss: 1.0486 - val_accuracy: 0.6083\n",
      "Epoch 36/100\n",
      "17/17 [==============================] - 2s 106ms/step - loss: 0.9622 - accuracy: 0.6574 - val_loss: 1.0287 - val_accuracy: 0.6333\n",
      "Epoch 37/100\n",
      "17/17 [==============================] - 2s 107ms/step - loss: 0.9449 - accuracy: 0.6648 - val_loss: 1.0115 - val_accuracy: 0.6500\n",
      "Epoch 38/100\n",
      "17/17 [==============================] - 2s 106ms/step - loss: 0.9281 - accuracy: 0.6713 - val_loss: 0.9937 - val_accuracy: 0.6500\n",
      "Epoch 39/100\n",
      "17/17 [==============================] - 2s 111ms/step - loss: 0.9118 - accuracy: 0.6769 - val_loss: 0.9768 - val_accuracy: 0.6417\n",
      "Epoch 40/100\n",
      "17/17 [==============================] - 2s 111ms/step - loss: 0.8964 - accuracy: 0.6778 - val_loss: 0.9613 - val_accuracy: 0.6500\n",
      "Epoch 41/100\n",
      "17/17 [==============================] - 2s 111ms/step - loss: 0.8813 - accuracy: 0.6880 - val_loss: 0.9429 - val_accuracy: 0.6583\n",
      "Epoch 42/100\n",
      "17/17 [==============================] - 2s 106ms/step - loss: 0.8681 - accuracy: 0.6907 - val_loss: 0.9292 - val_accuracy: 0.6667\n",
      "Epoch 43/100\n",
      "17/17 [==============================] - 2s 107ms/step - loss: 0.8513 - accuracy: 0.6963 - val_loss: 0.9139 - val_accuracy: 0.6667\n",
      "Epoch 44/100\n",
      "17/17 [==============================] - 2s 112ms/step - loss: 0.8384 - accuracy: 0.7056 - val_loss: 0.9000 - val_accuracy: 0.6833\n",
      "Epoch 45/100\n",
      "17/17 [==============================] - 2s 111ms/step - loss: 0.8242 - accuracy: 0.7056 - val_loss: 0.8854 - val_accuracy: 0.6917\n",
      "Epoch 46/100\n",
      "17/17 [==============================] - 2s 111ms/step - loss: 0.8119 - accuracy: 0.7102 - val_loss: 0.8722 - val_accuracy: 0.6917\n",
      "Epoch 47/100\n",
      "17/17 [==============================] - 2s 111ms/step - loss: 0.7994 - accuracy: 0.7185 - val_loss: 0.8581 - val_accuracy: 0.7083\n",
      "Epoch 48/100\n",
      "17/17 [==============================] - 2s 111ms/step - loss: 0.7864 - accuracy: 0.7241 - val_loss: 0.8450 - val_accuracy: 0.7083\n",
      "Epoch 49/100\n",
      "17/17 [==============================] - 2s 107ms/step - loss: 0.7762 - accuracy: 0.7241 - val_loss: 0.8341 - val_accuracy: 0.7167\n",
      "Epoch 50/100\n",
      "17/17 [==============================] - 2s 106ms/step - loss: 0.7631 - accuracy: 0.7296 - val_loss: 0.8207 - val_accuracy: 0.7250\n",
      "Epoch 51/100\n",
      "17/17 [==============================] - 2s 107ms/step - loss: 0.7538 - accuracy: 0.7333 - val_loss: 0.8113 - val_accuracy: 0.7333\n",
      "Epoch 52/100\n",
      "17/17 [==============================] - 2s 106ms/step - loss: 0.7411 - accuracy: 0.7361 - val_loss: 0.7979 - val_accuracy: 0.7333\n",
      "Epoch 53/100\n",
      "17/17 [==============================] - 2s 106ms/step - loss: 0.7293 - accuracy: 0.7463 - val_loss: 0.7871 - val_accuracy: 0.7500\n",
      "Epoch 54/100\n",
      "17/17 [==============================] - 2s 107ms/step - loss: 0.7200 - accuracy: 0.7509 - val_loss: 0.7772 - val_accuracy: 0.7500\n",
      "Epoch 55/100\n",
      "17/17 [==============================] - 2s 107ms/step - loss: 0.7078 - accuracy: 0.7602 - val_loss: 0.7655 - val_accuracy: 0.7500\n",
      "Epoch 56/100\n",
      "17/17 [==============================] - 2s 107ms/step - loss: 0.6987 - accuracy: 0.7630 - val_loss: 0.7571 - val_accuracy: 0.7500\n",
      "Epoch 57/100\n",
      "17/17 [==============================] - 2s 106ms/step - loss: 0.6872 - accuracy: 0.7731 - val_loss: 0.7474 - val_accuracy: 0.7417\n"
     ]
    },
    {
     "name": "stdout",
     "output_type": "stream",
     "text": [
      "Epoch 58/100\n",
      "17/17 [==============================] - 2s 106ms/step - loss: 0.6794 - accuracy: 0.7750 - val_loss: 0.7385 - val_accuracy: 0.7583\n",
      "Epoch 59/100\n",
      "17/17 [==============================] - 2s 111ms/step - loss: 0.6701 - accuracy: 0.7815 - val_loss: 0.7301 - val_accuracy: 0.7500\n",
      "Epoch 60/100\n",
      "17/17 [==============================] - 2s 111ms/step - loss: 0.6616 - accuracy: 0.7870 - val_loss: 0.7222 - val_accuracy: 0.7667\n",
      "Epoch 61/100\n",
      "17/17 [==============================] - 2s 106ms/step - loss: 0.6516 - accuracy: 0.7880 - val_loss: 0.7137 - val_accuracy: 0.7750\n",
      "Epoch 62/100\n",
      "17/17 [==============================] - 2s 106ms/step - loss: 0.6439 - accuracy: 0.7917 - val_loss: 0.7062 - val_accuracy: 0.7917\n",
      "Epoch 63/100\n",
      "17/17 [==============================] - 2s 107ms/step - loss: 0.6359 - accuracy: 0.7944 - val_loss: 0.6994 - val_accuracy: 0.7917\n",
      "Epoch 64/100\n",
      "17/17 [==============================] - 2s 106ms/step - loss: 0.6285 - accuracy: 0.7991 - val_loss: 0.6917 - val_accuracy: 0.8000\n",
      "Epoch 65/100\n",
      "17/17 [==============================] - 2s 112ms/step - loss: 0.6202 - accuracy: 0.8019 - val_loss: 0.6849 - val_accuracy: 0.8000\n",
      "Epoch 66/100\n",
      "17/17 [==============================] - 2s 111ms/step - loss: 0.6131 - accuracy: 0.8019 - val_loss: 0.6777 - val_accuracy: 0.8000\n",
      "Epoch 67/100\n",
      "17/17 [==============================] - 2s 106ms/step - loss: 0.6052 - accuracy: 0.8046 - val_loss: 0.6711 - val_accuracy: 0.8000\n",
      "Epoch 68/100\n",
      "17/17 [==============================] - 2s 106ms/step - loss: 0.5988 - accuracy: 0.8065 - val_loss: 0.6652 - val_accuracy: 0.8000\n",
      "Epoch 69/100\n",
      "17/17 [==============================] - 2s 106ms/step - loss: 0.5920 - accuracy: 0.8102 - val_loss: 0.6589 - val_accuracy: 0.8000\n",
      "Epoch 70/100\n",
      "17/17 [==============================] - 2s 106ms/step - loss: 0.5859 - accuracy: 0.8074 - val_loss: 0.6532 - val_accuracy: 0.8000\n",
      "Epoch 71/100\n",
      "17/17 [==============================] - 2s 106ms/step - loss: 0.5790 - accuracy: 0.8093 - val_loss: 0.6477 - val_accuracy: 0.8000\n",
      "Epoch 72/100\n",
      "17/17 [==============================] - 2s 107ms/step - loss: 0.5726 - accuracy: 0.8102 - val_loss: 0.6427 - val_accuracy: 0.8083\n",
      "Epoch 73/100\n",
      "17/17 [==============================] - 2s 106ms/step - loss: 0.5662 - accuracy: 0.8148 - val_loss: 0.6378 - val_accuracy: 0.8083\n",
      "Epoch 74/100\n",
      "17/17 [==============================] - 2s 111ms/step - loss: 0.5602 - accuracy: 0.8167 - val_loss: 0.6331 - val_accuracy: 0.8083\n",
      "Epoch 75/100\n",
      "17/17 [==============================] - 2s 111ms/step - loss: 0.5540 - accuracy: 0.8185 - val_loss: 0.6285 - val_accuracy: 0.8083\n",
      "Epoch 76/100\n",
      "17/17 [==============================] - 2s 107ms/step - loss: 0.5483 - accuracy: 0.8213 - val_loss: 0.6238 - val_accuracy: 0.8083\n",
      "Epoch 77/100\n",
      "17/17 [==============================] - 2s 106ms/step - loss: 0.5426 - accuracy: 0.8250 - val_loss: 0.6194 - val_accuracy: 0.8083\n",
      "Epoch 78/100\n",
      "17/17 [==============================] - 2s 107ms/step - loss: 0.5369 - accuracy: 0.8269 - val_loss: 0.6155 - val_accuracy: 0.8083\n",
      "Epoch 79/100\n",
      "17/17 [==============================] - 2s 106ms/step - loss: 0.5313 - accuracy: 0.8315 - val_loss: 0.6118 - val_accuracy: 0.8083\n",
      "Epoch 80/100\n",
      "17/17 [==============================] - 2s 106ms/step - loss: 0.5260 - accuracy: 0.8343 - val_loss: 0.6087 - val_accuracy: 0.8083\n",
      "Epoch 81/100\n",
      "17/17 [==============================] - 2s 106ms/step - loss: 0.5205 - accuracy: 0.8361 - val_loss: 0.6050 - val_accuracy: 0.8083\n",
      "Epoch 82/100\n",
      "17/17 [==============================] - 2s 106ms/step - loss: 0.5152 - accuracy: 0.8380 - val_loss: 0.6019 - val_accuracy: 0.8167\n",
      "Epoch 83/100\n",
      "17/17 [==============================] - 2s 111ms/step - loss: 0.5103 - accuracy: 0.8389 - val_loss: 0.5983 - val_accuracy: 0.8167\n",
      "Epoch 84/100\n",
      "17/17 [==============================] - 2s 106ms/step - loss: 0.5050 - accuracy: 0.8407 - val_loss: 0.5946 - val_accuracy: 0.8167\n",
      "Epoch 85/100\n",
      "17/17 [==============================] - 2s 106ms/step - loss: 0.5000 - accuracy: 0.8407 - val_loss: 0.5914 - val_accuracy: 0.8250\n",
      "Epoch 86/100\n",
      "17/17 [==============================] - 2s 111ms/step - loss: 0.4950 - accuracy: 0.8454 - val_loss: 0.5882 - val_accuracy: 0.8333\n",
      "Epoch 87/100\n",
      "17/17 [==============================] - 2s 112ms/step - loss: 0.4900 - accuracy: 0.8463 - val_loss: 0.5860 - val_accuracy: 0.8250\n",
      "Epoch 88/100\n",
      "17/17 [==============================] - 2s 111ms/step - loss: 0.4854 - accuracy: 0.8491 - val_loss: 0.5832 - val_accuracy: 0.8333\n",
      "Epoch 89/100\n",
      "17/17 [==============================] - 2s 111ms/step - loss: 0.4809 - accuracy: 0.8519 - val_loss: 0.5796 - val_accuracy: 0.8333\n",
      "Epoch 90/100\n",
      "17/17 [==============================] - 2s 106ms/step - loss: 0.4760 - accuracy: 0.8556 - val_loss: 0.5758 - val_accuracy: 0.8250\n",
      "Epoch 91/100\n",
      "17/17 [==============================] - 2s 106ms/step - loss: 0.4712 - accuracy: 0.8556 - val_loss: 0.5724 - val_accuracy: 0.8333\n",
      "Epoch 92/100\n",
      "17/17 [==============================] - 2s 106ms/step - loss: 0.4662 - accuracy: 0.8556 - val_loss: 0.5698 - val_accuracy: 0.8333\n",
      "Epoch 93/100\n",
      "17/17 [==============================] - 2s 106ms/step - loss: 0.4619 - accuracy: 0.8546 - val_loss: 0.5677 - val_accuracy: 0.8333\n",
      "Epoch 94/100\n",
      "17/17 [==============================] - 2s 107ms/step - loss: 0.4573 - accuracy: 0.8574 - val_loss: 0.5644 - val_accuracy: 0.8333\n",
      "Epoch 95/100\n",
      "17/17 [==============================] - 2s 106ms/step - loss: 0.4531 - accuracy: 0.8583 - val_loss: 0.5617 - val_accuracy: 0.8333\n",
      "Epoch 96/100\n",
      "17/17 [==============================] - 2s 107ms/step - loss: 0.4494 - accuracy: 0.8583 - val_loss: 0.5581 - val_accuracy: 0.8333\n",
      "Epoch 97/100\n",
      "17/17 [==============================] - 2s 106ms/step - loss: 0.4449 - accuracy: 0.8620 - val_loss: 0.5549 - val_accuracy: 0.8333\n",
      "Epoch 98/100\n",
      "17/17 [==============================] - 2s 106ms/step - loss: 0.4410 - accuracy: 0.8648 - val_loss: 0.5527 - val_accuracy: 0.8333\n",
      "Epoch 99/100\n",
      "17/17 [==============================] - 2s 107ms/step - loss: 0.4371 - accuracy: 0.8676 - val_loss: 0.5500 - val_accuracy: 0.8333\n",
      "Epoch 100/100\n",
      "17/17 [==============================] - 2s 107ms/step - loss: 0.4331 - accuracy: 0.8676 - val_loss: 0.5476 - val_accuracy: 0.8333\n"
     ]
    }
   ],
   "source": [
    "train_dataset = tf.data.Dataset.from_tensor_slices((X_train, Y_train)).batch(64)\n",
    "test_dataset = tf.data.Dataset.from_tensor_slices((X_test, Y_test)).batch(64)\n",
    "history = conv_model.fit(train_dataset, epochs=100, validation_data=test_dataset)"
   ]
  },
  {
   "cell_type": "markdown",
   "metadata": {},
   "source": [
    "<a name='5'></a>\n",
    "## 5 - History Object \n",
    "\n",
    "The history object is an output of the `.fit()` operation, and provides a record of all the loss and metric values in memory. It's stored as a dictionary that you can retrieve at `history.history`: "
   ]
  },
  {
   "cell_type": "code",
   "execution_count": 23,
   "metadata": {},
   "outputs": [
    {
     "data": {
      "text/plain": [
       "{'loss': [1.8648191690444946,\n",
       "  1.7971335649490356,\n",
       "  1.7871030569076538,\n",
       "  1.7806378602981567,\n",
       "  1.7751851081848145,\n",
       "  1.7686116695404053,\n",
       "  1.7604047060012817,\n",
       "  1.7475528717041016,\n",
       "  1.7298859357833862,\n",
       "  1.708541989326477,\n",
       "  1.6817775964736938,\n",
       "  1.6490530967712402,\n",
       "  1.6117171049118042,\n",
       "  1.5709407329559326,\n",
       "  1.5286012887954712,\n",
       "  1.4855802059173584,\n",
       "  1.443222165107727,\n",
       "  1.404048204421997,\n",
       "  1.3656023740768433,\n",
       "  1.3284857273101807,\n",
       "  1.2967609167099,\n",
       "  1.2670351266860962,\n",
       "  1.2375209331512451,\n",
       "  1.2095965147018433,\n",
       "  1.1843385696411133,\n",
       "  1.1602941751480103,\n",
       "  1.137473464012146,\n",
       "  1.115996241569519,\n",
       "  1.0948657989501953,\n",
       "  1.0748041868209839,\n",
       "  1.0554429292678833,\n",
       "  1.0359869003295898,\n",
       "  1.0163630247116089,\n",
       "  0.9979788064956665,\n",
       "  0.9803110957145691,\n",
       "  0.9622049927711487,\n",
       "  0.9449048042297363,\n",
       "  0.9280595779418945,\n",
       "  0.9118285775184631,\n",
       "  0.8964176774024963,\n",
       "  0.8813384175300598,\n",
       "  0.8680723905563354,\n",
       "  0.851335883140564,\n",
       "  0.8383969068527222,\n",
       "  0.8242025375366211,\n",
       "  0.8118880987167358,\n",
       "  0.7994073033332825,\n",
       "  0.7864348888397217,\n",
       "  0.7761958241462708,\n",
       "  0.7630975246429443,\n",
       "  0.753828763961792,\n",
       "  0.7410507798194885,\n",
       "  0.7293116450309753,\n",
       "  0.7200220227241516,\n",
       "  0.707844078540802,\n",
       "  0.6987321376800537,\n",
       "  0.6872055530548096,\n",
       "  0.6794217824935913,\n",
       "  0.6701484322547913,\n",
       "  0.6615636944770813,\n",
       "  0.6516295075416565,\n",
       "  0.6438767313957214,\n",
       "  0.6358653903007507,\n",
       "  0.6284534335136414,\n",
       "  0.620212197303772,\n",
       "  0.6130836009979248,\n",
       "  0.6052262187004089,\n",
       "  0.5988021492958069,\n",
       "  0.5919718146324158,\n",
       "  0.58589106798172,\n",
       "  0.5789691209793091,\n",
       "  0.5725550055503845,\n",
       "  0.5661755204200745,\n",
       "  0.56020188331604,\n",
       "  0.5539582371711731,\n",
       "  0.5482863187789917,\n",
       "  0.5425572395324707,\n",
       "  0.5369364023208618,\n",
       "  0.5313379764556885,\n",
       "  0.5260093808174133,\n",
       "  0.520532488822937,\n",
       "  0.5151611566543579,\n",
       "  0.5102865695953369,\n",
       "  0.5050026178359985,\n",
       "  0.500022828578949,\n",
       "  0.4950260818004608,\n",
       "  0.49004054069519043,\n",
       "  0.48538681864738464,\n",
       "  0.4809081554412842,\n",
       "  0.47598719596862793,\n",
       "  0.4711773991584778,\n",
       "  0.4661899209022522,\n",
       "  0.46186205744743347,\n",
       "  0.4573460817337036,\n",
       "  0.45313239097595215,\n",
       "  0.4493711590766907,\n",
       "  0.4448809325695038,\n",
       "  0.44101741909980774,\n",
       "  0.4370547831058502,\n",
       "  0.433104008436203],\n",
       " 'accuracy': [0.1518518477678299,\n",
       "  0.15833333134651184,\n",
       "  0.1805555522441864,\n",
       "  0.2518518567085266,\n",
       "  0.2805555462837219,\n",
       "  0.307407408952713,\n",
       "  0.3490740656852722,\n",
       "  0.3870370388031006,\n",
       "  0.4203703701496124,\n",
       "  0.4296296238899231,\n",
       "  0.43703705072402954,\n",
       "  0.43518519401550293,\n",
       "  0.4472222328186035,\n",
       "  0.45370370149612427,\n",
       "  0.4601851999759674,\n",
       "  0.47777777910232544,\n",
       "  0.4833333194255829,\n",
       "  0.49351853132247925,\n",
       "  0.5064814686775208,\n",
       "  0.5259259343147278,\n",
       "  0.5351851582527161,\n",
       "  0.550000011920929,\n",
       "  0.5620370507240295,\n",
       "  0.5740740895271301,\n",
       "  0.5833333134651184,\n",
       "  0.5898148417472839,\n",
       "  0.5981481671333313,\n",
       "  0.6083333492279053,\n",
       "  0.6138888597488403,\n",
       "  0.625,\n",
       "  0.6268518567085266,\n",
       "  0.6379629373550415,\n",
       "  0.6379629373550415,\n",
       "  0.6425926089286804,\n",
       "  0.6481481194496155,\n",
       "  0.6574074029922485,\n",
       "  0.664814829826355,\n",
       "  0.6712962985038757,\n",
       "  0.6768518686294556,\n",
       "  0.6777777671813965,\n",
       "  0.6879629492759705,\n",
       "  0.6907407641410828,\n",
       "  0.6962962746620178,\n",
       "  0.7055555582046509,\n",
       "  0.7055555582046509,\n",
       "  0.710185170173645,\n",
       "  0.7185184955596924,\n",
       "  0.7240740656852722,\n",
       "  0.7240740656852722,\n",
       "  0.729629635810852,\n",
       "  0.7333333492279053,\n",
       "  0.7361111044883728,\n",
       "  0.7462962865829468,\n",
       "  0.7509258985519409,\n",
       "  0.760185182094574,\n",
       "  0.7629629373550415,\n",
       "  0.7731481194496155,\n",
       "  0.7749999761581421,\n",
       "  0.7814815044403076,\n",
       "  0.7870370149612427,\n",
       "  0.7879629731178284,\n",
       "  0.7916666865348816,\n",
       "  0.7944444417953491,\n",
       "  0.7990740537643433,\n",
       "  0.8018518686294556,\n",
       "  0.8018518686294556,\n",
       "  0.8046296238899231,\n",
       "  0.8064814805984497,\n",
       "  0.8101851940155029,\n",
       "  0.8074073791503906,\n",
       "  0.8092592358589172,\n",
       "  0.8101851940155029,\n",
       "  0.8148148059844971,\n",
       "  0.8166666626930237,\n",
       "  0.8185185194015503,\n",
       "  0.8212962746620178,\n",
       "  0.824999988079071,\n",
       "  0.8268518447875977,\n",
       "  0.8314814567565918,\n",
       "  0.8342592716217041,\n",
       "  0.8361111283302307,\n",
       "  0.8379629850387573,\n",
       "  0.8388888835906982,\n",
       "  0.8407407402992249,\n",
       "  0.8407407402992249,\n",
       "  0.845370352268219,\n",
       "  0.8462963104248047,\n",
       "  0.8490740656852722,\n",
       "  0.8518518805503845,\n",
       "  0.855555534362793,\n",
       "  0.855555534362793,\n",
       "  0.855555534362793,\n",
       "  0.854629635810852,\n",
       "  0.8574073910713196,\n",
       "  0.8583333492279053,\n",
       "  0.8583333492279053,\n",
       "  0.8620370626449585,\n",
       "  0.864814817905426,\n",
       "  0.8675925731658936,\n",
       "  0.8675925731658936],\n",
       " 'val_loss': [1.7941261529922485,\n",
       "  1.7884762287139893,\n",
       "  1.77861750125885,\n",
       "  1.7737141847610474,\n",
       "  1.7683143615722656,\n",
       "  1.7623881101608276,\n",
       "  1.7541108131408691,\n",
       "  1.7388575077056885,\n",
       "  1.7223490476608276,\n",
       "  1.7023577690124512,\n",
       "  1.6771875619888306,\n",
       "  1.6455998420715332,\n",
       "  1.609484314918518,\n",
       "  1.5715914964675903,\n",
       "  1.5321358442306519,\n",
       "  1.4937795400619507,\n",
       "  1.4570012092590332,\n",
       "  1.423262119293213,\n",
       "  1.3895821571350098,\n",
       "  1.3612149953842163,\n",
       "  1.337752103805542,\n",
       "  1.3111363649368286,\n",
       "  1.2878906726837158,\n",
       "  1.2633124589920044,\n",
       "  1.2425868511199951,\n",
       "  1.2212086915969849,\n",
       "  1.201728343963623,\n",
       "  1.183605432510376,\n",
       "  1.165407657623291,\n",
       "  1.14693021774292,\n",
       "  1.1276984214782715,\n",
       "  1.1070747375488281,\n",
       "  1.0880872011184692,\n",
       "  1.0674216747283936,\n",
       "  1.048555850982666,\n",
       "  1.0287162065505981,\n",
       "  1.0114823579788208,\n",
       "  0.9937251806259155,\n",
       "  0.9768471121788025,\n",
       "  0.9613363742828369,\n",
       "  0.9428691864013672,\n",
       "  0.9291704893112183,\n",
       "  0.9138712286949158,\n",
       "  0.8999598026275635,\n",
       "  0.8854141235351562,\n",
       "  0.8721929788589478,\n",
       "  0.8580664396286011,\n",
       "  0.8449727296829224,\n",
       "  0.8341346383094788,\n",
       "  0.8206518292427063,\n",
       "  0.8113123774528503,\n",
       "  0.7978591918945312,\n",
       "  0.7870749235153198,\n",
       "  0.7772256731987,\n",
       "  0.7655255198478699,\n",
       "  0.7570760250091553,\n",
       "  0.7473893761634827,\n",
       "  0.7384634017944336,\n",
       "  0.7300662398338318,\n",
       "  0.7221896648406982,\n",
       "  0.7137338519096375,\n",
       "  0.706233024597168,\n",
       "  0.6993704438209534,\n",
       "  0.6916684508323669,\n",
       "  0.6849146485328674,\n",
       "  0.6777118444442749,\n",
       "  0.6711469292640686,\n",
       "  0.6651623845100403,\n",
       "  0.6589307188987732,\n",
       "  0.653220534324646,\n",
       "  0.6477332711219788,\n",
       "  0.6426751613616943,\n",
       "  0.6377765536308289,\n",
       "  0.6331193447113037,\n",
       "  0.6285475492477417,\n",
       "  0.6238370537757874,\n",
       "  0.619416356086731,\n",
       "  0.615469217300415,\n",
       "  0.6118005514144897,\n",
       "  0.6086550951004028,\n",
       "  0.6050136685371399,\n",
       "  0.601892352104187,\n",
       "  0.5983251929283142,\n",
       "  0.594551682472229,\n",
       "  0.5914283990859985,\n",
       "  0.5882046818733215,\n",
       "  0.5860234498977661,\n",
       "  0.5832306146621704,\n",
       "  0.5796038508415222,\n",
       "  0.5757540464401245,\n",
       "  0.5723713636398315,\n",
       "  0.5697872638702393,\n",
       "  0.5676840543746948,\n",
       "  0.5644131898880005,\n",
       "  0.561697781085968,\n",
       "  0.558118462562561,\n",
       "  0.554922342300415,\n",
       "  0.5526729822158813,\n",
       "  0.5499727725982666,\n",
       "  0.5476148128509521],\n",
       " 'val_accuracy': [0.15000000596046448,\n",
       "  0.17499999701976776,\n",
       "  0.25833332538604736,\n",
       "  0.3166666626930237,\n",
       "  0.2916666567325592,\n",
       "  0.375,\n",
       "  0.3916666805744171,\n",
       "  0.4166666567325592,\n",
       "  0.4166666567325592,\n",
       "  0.40833333134651184,\n",
       "  0.4166666567325592,\n",
       "  0.4416666626930237,\n",
       "  0.4416666626930237,\n",
       "  0.4583333432674408,\n",
       "  0.4749999940395355,\n",
       "  0.44999998807907104,\n",
       "  0.4749999940395355,\n",
       "  0.4583333432674408,\n",
       "  0.46666666865348816,\n",
       "  0.46666666865348816,\n",
       "  0.4749999940395355,\n",
       "  0.4833333194255829,\n",
       "  0.5249999761581421,\n",
       "  0.5,\n",
       "  0.5249999761581421,\n",
       "  0.5166666507720947,\n",
       "  0.5333333611488342,\n",
       "  0.5249999761581421,\n",
       "  0.550000011920929,\n",
       "  0.5249999761581421,\n",
       "  0.5583333373069763,\n",
       "  0.5333333611488342,\n",
       "  0.5833333134651184,\n",
       "  0.5833333134651184,\n",
       "  0.6083333492279053,\n",
       "  0.6333333253860474,\n",
       "  0.6499999761581421,\n",
       "  0.6499999761581421,\n",
       "  0.6416666507720947,\n",
       "  0.6499999761581421,\n",
       "  0.6583333611488342,\n",
       "  0.6666666865348816,\n",
       "  0.6666666865348816,\n",
       "  0.6833333373069763,\n",
       "  0.6916666626930237,\n",
       "  0.6916666626930237,\n",
       "  0.7083333134651184,\n",
       "  0.7083333134651184,\n",
       "  0.7166666388511658,\n",
       "  0.7250000238418579,\n",
       "  0.7333333492279053,\n",
       "  0.7333333492279053,\n",
       "  0.75,\n",
       "  0.75,\n",
       "  0.75,\n",
       "  0.75,\n",
       "  0.7416666746139526,\n",
       "  0.7583333253860474,\n",
       "  0.75,\n",
       "  0.7666666507720947,\n",
       "  0.7749999761581421,\n",
       "  0.7916666865348816,\n",
       "  0.7916666865348816,\n",
       "  0.800000011920929,\n",
       "  0.800000011920929,\n",
       "  0.800000011920929,\n",
       "  0.800000011920929,\n",
       "  0.800000011920929,\n",
       "  0.800000011920929,\n",
       "  0.800000011920929,\n",
       "  0.800000011920929,\n",
       "  0.8083333373069763,\n",
       "  0.8083333373069763,\n",
       "  0.8083333373069763,\n",
       "  0.8083333373069763,\n",
       "  0.8083333373069763,\n",
       "  0.8083333373069763,\n",
       "  0.8083333373069763,\n",
       "  0.8083333373069763,\n",
       "  0.8083333373069763,\n",
       "  0.8083333373069763,\n",
       "  0.8166666626930237,\n",
       "  0.8166666626930237,\n",
       "  0.8166666626930237,\n",
       "  0.824999988079071,\n",
       "  0.8333333134651184,\n",
       "  0.824999988079071,\n",
       "  0.8333333134651184,\n",
       "  0.8333333134651184,\n",
       "  0.824999988079071,\n",
       "  0.8333333134651184,\n",
       "  0.8333333134651184,\n",
       "  0.8333333134651184,\n",
       "  0.8333333134651184,\n",
       "  0.8333333134651184,\n",
       "  0.8333333134651184,\n",
       "  0.8333333134651184,\n",
       "  0.8333333134651184,\n",
       "  0.8333333134651184,\n",
       "  0.8333333134651184]}"
      ]
     },
     "execution_count": 23,
     "metadata": {},
     "output_type": "execute_result"
    }
   ],
   "source": [
    "history.history"
   ]
  },
  {
   "cell_type": "markdown",
   "metadata": {},
   "source": [
    "Now visualize the loss over time using `history.history`: "
   ]
  },
  {
   "cell_type": "code",
   "execution_count": 24,
   "metadata": {},
   "outputs": [
    {
     "data": {
      "text/plain": [
       "[Text(0, 0.5, 'Accuracy'), Text(0.5, 0, 'Epoch')]"
      ]
     },
     "execution_count": 24,
     "metadata": {},
     "output_type": "execute_result"
    },
    {
     "data": {
      "image/png": "[encoded data removed]",
      "text/plain": [
       "<Figure size 864x576 with 1 Axes>"
      ]
     },
     "metadata": {
      "needs_background": "light"
     },
     "output_type": "display_data"
    },
    {
     "data": {
      "image/png": "[encoded data removed]",
      "text/plain": [
       "<Figure size 864x576 with 1 Axes>"
      ]
     },
     "metadata": {
      "needs_background": "light"
     },
     "output_type": "display_data"
    }
   ],
   "source": [
    "# The history.history[\"loss\"] entry is a dictionary with as many values as epochs that the\n",
    "# model was trained on. \n",
    "df_loss_acc = pd.DataFrame(history.history)\n",
    "df_loss= df_loss_acc[['loss','val_loss']]\n",
    "df_loss.rename(columns={'loss':'train','val_loss':'validation'},inplace=True)\n",
    "df_acc= df_loss_acc[['accuracy','val_accuracy']]\n",
    "df_acc.rename(columns={'accuracy':'train','val_accuracy':'validation'},inplace=True)\n",
    "df_loss.plot(title='Model loss',figsize=(12,8)).set(xlabel='Epoch',ylabel='Loss')\n",
    "df_acc.plot(title='Model Accuracy',figsize=(12,8)).set(xlabel='Epoch',ylabel='Accuracy')"
   ]
  },
  {
   "cell_type": "markdown",
   "metadata": {},
   "source": [
    "**Congratulations**! You've finished the assignment and built two models: One that recognizes  smiles, and another that recognizes SIGN language with almost 80% accuracy on the test set. In addition to that, you now also understand the applications of two Keras APIs: Sequential and Functional. Nicely done! \n",
    "\n",
    "By now, you know a bit about how the Functional API works and may have glimpsed the possibilities. In your next assignment, you'll really get a feel for its power when you get the opportunity to build a very deep ConvNet, using ResNets! "
   ]
  },
  {
   "cell_type": "markdown",
   "metadata": {},
   "source": [
    "<a name='6'></a>\n",
    "## 6 - Bibliography\n",
    "\n",
    "You're always encouraged to read the official documentation. To that end, you can find the docs for the Sequential and Functional APIs here: \n",
    "\n",
    "https://www.tensorflow.org/guide/keras/sequential_model\n",
    "\n",
    "https://www.tensorflow.org/guide/keras/functional"
   ]
  }
 ],
 "metadata": {
  "coursera": {
   "course_slug": "convolutional-neural-networks",
   "graded_item_id": "bwbJV",
   "launcher_item_id": "0TkXB"
  },
  "kernelspec": {
   "display_name": "Python 3",
   "language": "python",
   "name": "python3"
  },
  "language_info": {
   "codemirror_mode": {
    "name": "ipython",
    "version": 3
   },
   "file_extension": ".py",
   "mimetype": "text/x-python",
   "name": "python",
   "nbconvert_exporter": "python",
   "pygments_lexer": "ipython3",
   "version": "3.7.6"
  }
 },
 "nbformat": 4,
 "nbformat_minor": 2
}
